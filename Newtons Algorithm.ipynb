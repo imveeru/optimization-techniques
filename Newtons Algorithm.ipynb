{
  "nbformat": 4,
  "nbformat_minor": 0,
  "metadata": {
    "colab": {
      "name": "Untitled3.ipynb",
      "provenance": [],
      "authorship_tag": "ABX9TyNRa6AQf9kSBPoJ1TNxMOQ+",
      "include_colab_link": true
    },
    "kernelspec": {
      "name": "python3",
      "display_name": "Python 3"
    },
    "language_info": {
      "name": "python"
    }
  },
  "cells": [
    {
      "cell_type": "markdown",
      "metadata": {
        "id": "view-in-github",
        "colab_type": "text"
      },
      "source": [
        "<a href=\"https://colab.research.google.com/github/imveeru/optimization-techniques/blob/main/Newtons%20Algorithm.ipynb\" target=\"_parent\"><img src=\"https://colab.research.google.com/assets/colab-badge.svg\" alt=\"Open In Colab\"/></a>"
      ]
    },
    {
      "cell_type": "code",
      "source": [
        "from sympy import * \n",
        "  \n",
        "x, y = symbols('x y')\n",
        "expr = x**2 + 2 * y + y**3\n",
        "print(\"Expression : {} \".format(expr))\n",
        "   \n",
        "# Use sympy.Derivative() method \n",
        "expr_diff = Derivative(expr, x)  \n",
        "      \n",
        "print(\"Derivative of expression with respect to x : {}\".format(expr_diff))  \n",
        "print(\"Value of the derivative : {} \".format(expr_diff.doit()))"
      ],
      "metadata": {
        "colab": {
          "base_uri": "https://localhost:8080/"
        },
        "id": "-dLQt0xyc58E",
        "outputId": "e9d4f733-0d9b-4802-fa1d-a120819e4d7c"
      },
      "execution_count": 2,
      "outputs": [
        {
          "output_type": "stream",
          "name": "stdout",
          "text": [
            "Expression : x**2 + y**3 + 2*y \n",
            "Derivative of expression with respect to x : Derivative(x**2 + y**3 + 2*y, x)\n",
            "Value of the derivative : 2*x \n"
          ]
        }
      ]
    },
    {
      "cell_type": "code",
      "source": [
        ""
      ],
      "metadata": {
        "id": "DzRpM77adDnX"
      },
      "execution_count": null,
      "outputs": []
    }
  ]
}