{
  "nbformat": 4,
  "nbformat_minor": 0,
  "metadata": {
    "colab": {
      "name": "Untitled3.ipynb",
      "provenance": [],
      "collapsed_sections": [],
      "authorship_tag": "ABX9TyMiwT1NvBJf+r82+RRTdlEg",
      "include_colab_link": true
    },
    "kernelspec": {
      "name": "python3",
      "display_name": "Python 3"
    },
    "language_info": {
      "name": "python"
    }
  },
  "cells": [
    {
      "cell_type": "markdown",
      "metadata": {
        "id": "view-in-github",
        "colab_type": "text"
      },
      "source": [
        "<a href=\"https://colab.research.google.com/github/imveeru/optimization-techniques/blob/main/OT-Newtons%20Algorithm.ipynb\" target=\"_parent\"><img src=\"https://colab.research.google.com/assets/colab-badge.svg\" alt=\"Open In Colab\"/></a>"
      ]
    },
    {
      "cell_type": "markdown",
      "source": [
        "# **Newton's Algorithm**"
      ],
      "metadata": {
        "id": "faBUfUHqnA81"
      }
    },
    {
      "cell_type": "code",
      "source": [
        "from sympy import *"
      ],
      "metadata": {
        "id": "1C0F9UvLok_P"
      },
      "execution_count": 13,
      "outputs": []
    },
    {
      "cell_type": "code",
      "source": [
        "def f_0(x):\n",
        "    return 3*x**2 - 6*x -45\n",
        "\n",
        "\n",
        "\n",
        "def f_1(x):\n",
        "    return 6*x - 6"
      ],
      "metadata": {
        "id": "-dLQt0xyc58E"
      },
      "execution_count": 14,
      "outputs": []
    },
    {
      "cell_type": "code",
      "source": [
        "initial_value = 5\n",
        "iterations = 0\n",
        "x_curr = initial_value\n",
        "epsilon = 0.00001\n",
        "f = f_0(x_curr)"
      ],
      "metadata": {
        "id": "QyBQot1unPU4"
      },
      "execution_count": 15,
      "outputs": []
    },
    {
      "cell_type": "code",
      "source": [
        "while (abs(f) > epsilon):\n",
        "    \n",
        "    \n",
        "    f = f_0(x_curr)\n",
        "    f_prime = f_1(x_curr)\n",
        "    \n",
        "    \n",
        "    x_curr = x_curr - (f)/(f_prime)\n",
        "    \n",
        "    \n",
        "    iterations += 1\n",
        "    print(x_curr)"
      ],
      "metadata": {
        "id": "Rhc4wUapnT8q"
      },
      "execution_count": 16,
      "outputs": []
    },
    {
      "cell_type": "code",
      "source": [
        "def newtons_method(root_func, first_prime, eps, initial):\n",
        "    x_curr = initial\n",
        "\n",
        "    iterations=0\n",
        "    \n",
        "    f = root_func(x_curr)\n",
        "    \n",
        "    while (abs(f) > eps):\n",
        "    \n",
        "        f = root_func(x_curr)\n",
        "        f_prime = first_prime(x_curr)\n",
        "        \n",
        "        x_curr = x_curr - (f)/(f_prime)        \n",
        "        iterations += 1\n",
        "    \n",
        "    print(f\"Algorithm converged after {iterations} iterations. An optimum can be found at point: \")\n",
        "    \n",
        "    return x_curr"
      ],
      "metadata": {
        "id": "ARuXAOz7nwuL"
      },
      "execution_count": 19,
      "outputs": []
    },
    {
      "cell_type": "code",
      "source": [
        "newtons_method(root_func=f_0, first_prime=f_1, eps=0.00001, initial=50)"
      ],
      "metadata": {
        "id": "DzRpM77adDnX",
        "colab": {
          "base_uri": "https://localhost:8080/"
        },
        "outputId": "476af524-cb82-4c5f-bb5c-4193212fbdf5"
      },
      "execution_count": 20,
      "outputs": [
        {
          "output_type": "stream",
          "name": "stdout",
          "text": [
            "Algorithm converged after 8 iterations. An optimum can be found at point: \n"
          ]
        },
        {
          "output_type": "execute_result",
          "data": {
            "text/plain": [
              "5.0"
            ]
          },
          "metadata": {},
          "execution_count": 20
        }
      ]
    }
  ]
}